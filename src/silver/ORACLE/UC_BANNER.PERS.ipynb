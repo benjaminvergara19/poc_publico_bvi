{
  "cells": [
    {
      "cell_type": "markdown",
      "metadata": {},
      "source": [
        "# UC Banner PERS - Silver Layer\n",
        "Limpieza y transformación de datos UC_BANNER.PERS"
      ]
    },
    {
      "cell_type": "code",
      "execution_count": null,
      "metadata": {},
      "outputs": [],
      "source": [
        "# Importar librerías necesarias\n",
        "from pyspark.sql import SparkSession\n",
        "from pyspark.sql.functions import *\n",
        "from pyspark.sql.types import *\n",
        "\n",
        "spark = SparkSession.builder.appName(\"UC_BANNER_PERS_Silver\").getOrCreate()"
      ]
    },
    {
      "cell_type": "code",
      "execution_count": null,
      "metadata": {},
      "outputs": [],
      "source": [
        "# Leer datos de Bronze layer\n",
        "df_bronze = spark.table(\"bronze.uc_banner_pers\")\n",
        "\n",
        "print(f\"Registros en Bronze: {df_bronze.count()}\")\n",
        "df_bronze.printSchema()"
      ]
    },
    {
      "cell_type": "code",
      "execution_count": null,
      "metadata": {},
      "outputs": [],
      "source": [
        "# Transformaciones Silver\n",
        "df_silver = df_bronze.select(\n",
        "    col(\"*\"),\n",
        "    current_timestamp().alias(\"processed_at\")\n",
        ").filter(\n",
        "    col(\"some_field\").isNotNull()  # Ejemplo de filtro\n",
        ").dropDuplicates()\n",
        "\n",
        "# Guardar en Silver layer\n",
        "df_silver.write.mode(\"overwrite\").saveAsTable(\"silver.uc_banner_pers\")\n",
        "\n",
        "print(f\"Registros procesados en Silver: {df_silver.count()}\")"
      ]
    }
  ],
  "metadata": {
    "kernelspec": {
      "display_name": "Python 3",
      "language": "python",
      "name": "python3"
    },
    "language_info": {
      "name": "python",
      "version": "3.8.0"
    }
  },
  "nbformat": 4,
  "nbformat_minor": 4
}