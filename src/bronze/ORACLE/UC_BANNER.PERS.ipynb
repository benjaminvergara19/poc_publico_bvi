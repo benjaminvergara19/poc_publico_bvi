{
  "cells": [
    {
      "cell_type": "markdown",
      "metadata": {},
      "source": [
        "# UC Banner PERS - Bronze Layer\n",
        "Extracción de datos desde Oracle UC_BANNER.PERS"
      ]
    },
    {
      "cell_type": "code",
      "execution_count": null,
      "metadata": {},
      "outputs": [],
      "source": [
        "# Importar librerías necesarias\n",
        "from pyspark.sql import SparkSession\n",
        "from pyspark.sql.functions import *\n",
        "\n",
        "spark = SparkSession.builder.appName(\"UC_BANNER_PERS_Bronze\").getOrCreate()"
      ]
    },
    {
      "cell_type": "code",
      "execution_count": null,
      "metadata": {},
      "outputs": [],
      "source": [
        "# Configuración de conexión a Oracle\n",
        "# TODO: Configurar parámetros de conexión\n",
        "oracle_config = {\n",
        "    \"url\": \"jdbc:oracle:thin:@//host:port/service\",\n",
        "    \"dbtable\": \"UC_BANNER.PERS\",\n",
        "    \"user\": \"username\",\n",
        "    \"password\": \"password\",\n",
        "    \"driver\": \"oracle.jdbc.driver.OracleDriver\"\n",
        "}"
      ]
    },
    {
      "cell_type": "code",
      "execution_count": null,
      "metadata": {},
      "outputs": [],
      "source": [
        "# Extraer datos de Oracle\n",
        "df_bronze = spark.read.format(\"jdbc\").options(**oracle_config).load()\n",
        "\n",
        "# Guardar en Bronze layer\n",
        "df_bronze.write.mode(\"overwrite\").saveAsTable(\"bronze.uc_banner_pers\")\n",
        "\n",
        "print(f\"Registros procesados: {df_bronze.count()}\")"
      ]
    }
  ],
  "metadata": {
    "kernelspec": {
      "display_name": "Python 3",
      "language": "python",
      "name": "python3"
    },
    "language_info": {
      "name": "python",
      "version": "3.8.0"
    }
  },
  "nbformat": 4,
  "nbformat_minor": 4
}